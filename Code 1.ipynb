{
 "cells": [
  {
   "cell_type": "code",
   "execution_count": 3,
   "id": "93a842bd",
   "metadata": {},
   "outputs": [
    {
     "name": "stdout",
     "output_type": "stream",
     "text": [
      "Hello Jesus Vega\n"
     ]
    }
   ],
   "source": [
    "print(\"Hello Jesus Vega\")"
   ]
  },
  {
   "cell_type": "markdown",
   "id": "f67b414d",
   "metadata": {},
   "source": [
    "Circular Orbits:"
   ]
  },
  {
   "cell_type": "markdown",
   "id": "9d0e94cc",
   "metadata": {},
   "source": [
    "a) Starting with Newton's law of Gravitation"
   ]
  },
  {
   "cell_type": "markdown",
   "id": "0387fdb1",
   "metadata": {},
   "source": [
    "$F_g = G\\frac{Mm}{r^2}$ where $G = 6.67 x 10^{-11} \\frac{m^3}{kgs^2}$ and the mass of the Earth is $M = 5.97 x 10^{24} kg$(1)"
   ]
  },
  {
   "cell_type": "markdown",
   "id": "d5dd0313",
   "metadata": {},
   "source": [
    "the centripetal force is the following"
   ]
  },
  {
   "cell_type": "markdown",
   "id": "e7b62321",
   "metadata": {},
   "source": [
    "$F_c = \\frac{mv^2}{r} = m\\omega^2r$ (2)"
   ]
  },
  {
   "cell_type": "markdown",
   "id": "8d95619e",
   "metadata": {},
   "source": [
    "equate equations (1) and (2) to solve for r"
   ]
  },
  {
   "cell_type": "markdown",
   "id": "c2936a14",
   "metadata": {},
   "source": [
    "$G\\frac{Mm}{r^2} = m\\omega^2r$"
   ]
  },
  {
   "cell_type": "markdown",
   "id": "96101985",
   "metadata": {},
   "source": [
    "$r = (\\frac{GM}{\\omega^2})^\\frac{1}{3}$ where $\\omega = \\frac{2\\pi}{T}$ and T is the period"
   ]
  },
  {
   "cell_type": "markdown",
   "id": "bf6a3476",
   "metadata": {},
   "source": [
    "$r = (\\frac{GMT^2}{4\\pi^2})^\\frac{1}{3}$"
   ]
  },
  {
   "cell_type": "markdown",
   "id": "8a60f7f9",
   "metadata": {},
   "source": [
    "if we know that the distance to some point is r and the radius of the Earth is R then the height at some point h is the following"
   ]
  },
  {
   "cell_type": "markdown",
   "id": "50d27301",
   "metadata": {},
   "source": [
    "$h = r - R$ where $R = 6371 km$"
   ]
  },
  {
   "cell_type": "markdown",
   "id": "ec57b950",
   "metadata": {},
   "source": [
    "$h = (\\frac{GMT^2}{4\\pi^2})^\\frac{1}{3} - R$"
   ]
  },
  {
   "cell_type": "code",
   "execution_count": 23,
   "id": "356fd0b8",
   "metadata": {},
   "outputs": [
    {
     "name": "stdout",
     "output_type": "stream",
     "text": [
      "Enter a value of T in minutes:92.68\n",
      "410696.1325276494\n"
     ]
    }
   ],
   "source": [
    "#b) In a Python code box, write a program that prompts the user to enter a value of T in minutes.\n",
    "    #Verify that the code works with the period of the International Space Stations\n",
    "    #which has an altitude of 410 km and period of 92.68 minutes.\n",
    "    \n",
    "import numpy as np #allows us to call any function from numpy when we call it.\n",
    "    \n",
    "G = float(6.67e-11) #units of m^3/kg/s^2\n",
    "M = float(5.97e24) #units of kg\n",
    "R_1 = 6371*1000 #converting km to meters\n",
    "#after python converts the value of R_1 it is called a new variable\n",
    "R_2 = R_1\n",
    "#allowing the user to input a value for the period\n",
    "T_1 = float(input(\"Enter a value of T in minutes:\"))\n",
    "T_2 = T_1*60\n",
    "h = ((G*M*(T_2)**2)/(4*np.pi**2))**(1/3) - R_2\n",
    "    \n",
    "print(h)"
   ]
  },
  {
   "cell_type": "code",
   "execution_count": 25,
   "id": "13493d45",
   "metadata": {},
   "outputs": [
    {
     "name": "stdout",
     "output_type": "stream",
     "text": [
      "35855910.176174976\n"
     ]
    }
   ],
   "source": [
    "#c) In a new code box, re-code the calculation so it makes the calculation using a user defined function instead.\n",
    "#Then calculate the altitude of Geosynchronous Orbit where it's one day T = 24 hours.\n",
    "\n",
    "import numpy as np\n",
    "\n",
    "G = float(6.67e-11) #units of m^3/kg/s^2\n",
    "M = float(5.97e24) #units of kg\n",
    "R_1 = 6371*1000 #converting km to meters\n",
    "R_2 = R_1\n",
    "T_1 = 24*3600\n",
    "T_2 = T_1 #converting hours to seconds\n",
    "h = ((G*M*(T_2)**2)/((4*np.pi**2)))**(1/3) - R_2\n",
    "\n",
    "#here we used the define function to redefine the equation for h, we then call the function by returning it\n",
    "def fun():\n",
    "    print(h)\n",
    "fun()"
   ]
  },
  {
   "cell_type": "code",
   "execution_count": 54,
   "id": "623d6d77",
   "metadata": {},
   "outputs": [
    {
     "name": "stdout",
     "output_type": "stream",
     "text": [
      "h = -222899 meters\n",
      "h = -171771 meters\n",
      "h = -120853 meters\n",
      "h = -70141 meters\n",
      "h = -19633 meters\n",
      "h = 30674 meters\n",
      "h = 80785 meters\n",
      "h = 130703 meters\n",
      "h = 180429 meters\n",
      "h = 229968 meters\n",
      "h = 279321 meters\n"
     ]
    }
   ],
   "source": [
    "#d) In a new code box, write a while loop which repetitively calculates h from T = 90 minutes or 5,400 seconds\n",
    "#to T = 80 minutes or 4,800 seconds, \n",
    "#iterating in 1 minute intervals/ 60 second intervals. \n",
    "#Is there a minimal orbital period around Earth\n",
    "\n",
    "import numpy as np\n",
    "G = float(6.67e-11) #units of m^3/kg/s^2\n",
    "M = float(5.97e24) #units of kg\n",
    "R_1 = 6371*1000 #converting km to meters\n",
    "R_2 = R_1\n",
    "T_1 = 4800\n",
    "T_2 = 5400\n",
    "\n",
    "#creating a while for values less than or equal to T_2\n",
    "while (T_1 <= T_2):\n",
    "    h = ((G*M*(T_1)**2)/((4*np.pi**2)))**(1/3) - R_2 #the equation is under the while loop   \n",
    "    #reiterates the loop until the value of T_1 equal T_2 with increments of 60 seconds\n",
    "    T_1 = T_1+60\n",
    "    #printing the function multiple times while under the while loop\n",
    "    print(\"h =\", int(h),\"meters\")"
   ]
  },
  {
   "cell_type": "markdown",
   "id": "5c8eb7e3",
   "metadata": {},
   "source": [
    "The minimal orbital Period is when the height is the smallest value which is at 19633 meters, which happens at 85 minutes."
   ]
  },
  {
   "cell_type": "markdown",
   "id": "e0783855",
   "metadata": {},
   "source": [
    "Coordinate Conversion:"
   ]
  },
  {
   "cell_type": "code",
   "execution_count": 82,
   "id": "8294b93e",
   "metadata": {},
   "outputs": [
    {
     "name": "stdout",
     "output_type": "stream",
     "text": [
      "Enter a value for x:3\n",
      "Enter a value for y:4\n",
      "r = 5.0 phi =  0.9273\n"
     ]
    }
   ],
   "source": [
    "#a) Write a program which takes x and y as an input and prints out the r and phi (polar angle) of the coordinate. \n",
    "#Make sure to utilize if statements to make sure your results are in the correct quadrants.\n",
    "\n",
    "import numpy as np\n",
    "\n",
    "#asking the user to input values for x and y\n",
    "x1 = float(input(\"Enter a value for x:\"))\n",
    "y1 = float(input(\"Enter a value for y:\"))\n",
    "\n",
    "#defines what r coordinate is in terms of x and y\n",
    "r = ((x1**2) + (y1**2))**(1/2)\n",
    "#equation to find the angle in terms of x and y\n",
    "theta = np.arctan(y1/x1)\n",
    "\n",
    "#setting the conditions for when the user puts in negative values for x and y\n",
    "if x1 < 0 and y1 >0:\n",
    "        print(\"r =\",float(r),\"phi =\",f\"{theta: .4f}\")\n",
    "elif x1 < 0 and y1 < 0:\n",
    "        print(\"r =\",float(r),\"phi =\",-f\"{theta: .4f}\")\n",
    "else:\n",
    "        print(\"r =\",float(r),\"phi =\",f\"{theta: .4f}\")"
   ]
  },
  {
   "cell_type": "code",
   "execution_count": 76,
   "id": "9cc1c15d",
   "metadata": {},
   "outputs": [
    {
     "name": "stdout",
     "output_type": "stream",
     "text": [
      "Enter a value for r:-1\n",
      "Enter a value for phi:-90\n",
      "x = -0.0000 y =  1.0000\n"
     ]
    }
   ],
   "source": [
    "# b) Write a program which takes r and phi and prints out the x and y coordinate. \n",
    "#Make sure to utilize if statements to make sure your results are in the correct quadrants.\n",
    "\n",
    "import numpy as np\n",
    "\n",
    "r1 = float(input(\"Enter a value for r:\"))\n",
    "d = float(input(\"Enter a integer value for phi:\"))\n",
    "\n",
    "#changing the input angle of a float value into radians\n",
    "phi = d*np.pi/180\n",
    "#does the calculation for each variable\n",
    "x1 = r1*np.cos(phi)\n",
    "y1 = r1*np.sin(phi)\n",
    "\n",
    "#setting the conditions for each quadrant\n",
    "#first quadrant should return both positive vales\n",
    "if   ((phi >= 0))  and ((phi <= np.pi/2)) and ((r >0)):\n",
    "    print(\"x =\",f\"{x1: .4f}\", \"y =\", f\"{y1: .4f}\")\n",
    "#second quadrant returns -x but only if r >0 another condition\n",
    "#has to be written for it as well\n",
    "elif ((phi >= np.pi/2))  and ((phi <= np.pi)) and ((r < 0)):\n",
    "    print(\"x =\",f\"{x1: .4f}\", \"y =\", f\"{-y1: .4f}\")\n",
    "elif ((phi >= np.pi/2))  and ((phi <= np.pi)) and ((r > 0)):\n",
    "    print(\"x =\",f\"{-x1: .4f}\", \"y =\", f\"{y1: .4f}\")\n",
    "elif ((phi >= np.pi))  and ((phi <= np.pi*3/2)) and ((r > 0)):\n",
    "    print(\"x =\",f\"{-x1: .4f}\", \"y =\", f\"{-y1: .4f}\")\n",
    "elif ((phi >= np.pi))  and ((phi <= np.pi*3/2)) and ((r < 0)):\n",
    "    print(\"x =\",f\"{x1: .4f}\", \"y =\", f\"{y1: .4f}\")\n",
    "elif ((phi >= np.pi*3/2))  and ((phi < 0)) and ((r < 0)):\n",
    "    print(\"x =\",f\"{-x1: .4f}\", \"y =\", f\"{y1: .4f}\")\n",
    "elif ((phi >= np.pi*3/2))  and ((phi < 0)) and ((r > 0)):\n",
    "    print(\"x =\",f\"{x1: .4f}\", \"y =\", f\"{-y1: .4f}\")\n",
    "else:\n",
    "    print(\"x =\",f\"{x1: .4f}\", \"y =\", f\"{y1: .4f}\")"
   ]
  },
  {
   "cell_type": "markdown",
   "id": "74971ebd",
   "metadata": {},
   "source": [
    "Lorentz Invariants: The momentum 4-vector and the invariants are:\n",
    "\n",
    "$p = [\\frac{E}{c}, p_x, p_y, p_z]$ (1)\n",
    "\n",
    "$s = (\\frac{E}{c})^2 - p^2_x - p^2_y - p^2_z$ (2)"
   ]
  },
  {
   "cell_type": "markdown",
   "id": "32bf7ace",
   "metadata": {},
   "source": [
    "show that $\\sqrt{s} = mc$; where the m is the mass of the particle and c is the speed of light"
   ]
  },
  {
   "cell_type": "markdown",
   "id": "79cbeeb7",
   "metadata": {},
   "source": [
    "starting with the energy momentum relation"
   ]
  },
  {
   "cell_type": "markdown",
   "id": "bfac957c",
   "metadata": {},
   "source": [
    "$(\\frac{E}{c^2})^2 = \\textbf{p}\\cdot\\textbf{p} + m^2c^2$"
   ]
  },
  {
   "cell_type": "markdown",
   "id": "3d97bcb0",
   "metadata": {},
   "source": [
    "using equation (2) and plugging it into the energy momentum relation we get"
   ]
  },
  {
   "cell_type": "markdown",
   "id": "7a83e95c",
   "metadata": {},
   "source": [
    "$s + p^2_x + p^2_y + p^2_z = \\textbf{p}\\cdot\\textbf{p} + m^2c^2$ "
   ]
  },
  {
   "cell_type": "markdown",
   "id": "a7928f25",
   "metadata": {},
   "source": [
    "we can quickly see that $\\textbf{p}\\cdot\\textbf{p} = p^2_x + p^2_y + p^2_z$"
   ]
  },
  {
   "cell_type": "markdown",
   "id": "908af1fc",
   "metadata": {},
   "source": [
    "we are left with the following relation $s = m^2c^2$"
   ]
  },
  {
   "cell_type": "markdown",
   "id": "47378fc0",
   "metadata": {},
   "source": [
    "$\\sqrt{s} = mc$"
   ]
  },
  {
   "cell_type": "code",
   "execution_count": 54,
   "id": "ede96385",
   "metadata": {},
   "outputs": [
    {
     "name": "stdout",
     "output_type": "stream",
     "text": [
      "Enter number of elements : 4\n",
      "1\n",
      "2\n",
      "3\n",
      "4\n",
      "[1, 2, 3, 4]\n"
     ]
    }
   ],
   "source": [
    "#b) Write a function which takes a list [E, px, py, pz] as an input and print out the mass*(speed of light) of the particle.\n",
    "#Make sure the function returns an obviously wrong answer like -1 for invalid inputs. \n",
    "#Extra note, typically in particle physics this energy, momentum and mass all have units of Electrovolt (eV). \n",
    "#Mass a proton is 0.938 GeV for example.\n",
    "# creating an empty list\n",
    "lst = []\n",
    " \n",
    "# number of elements as input\n",
    "n = int(input(\"Enter number of elements : \"))\n",
    " \n",
    "# iterating the range of list until the number of elements has been acquired\n",
    "for i in range(0, n):\n",
    "    ele = int(input())\n",
    "    # adding the element\n",
    "    lst.append(ele) \n",
    "\n",
    " \n",
    "print(lst)"
   ]
  },
  {
   "cell_type": "markdown",
   "id": "3e65a2f7",
   "metadata": {},
   "source": [
    "Binding Energy of Isotopes:"
   ]
  },
  {
   "cell_type": "code",
   "execution_count": 101,
   "id": "db1b5e0b",
   "metadata": {},
   "outputs": [],
   "source": [
    "#listing the values for each variable\n",
    "import numpy as np\n",
    "\n",
    "a1 = 15.8\n",
    "a2 = 18.3\n",
    "a3 = 0.714\n",
    "a4 = 23.2\n",
    "\n",
    "A = 58#float(int(\"Enter a value for A:\"))\n",
    "Z = 28#float(int(\"Enter a value for Z:\"))\n",
    "\n",
    "n == int\n",
    "\n",
    "if A == 2*n +1:\n",
    "    a5 = 0\n",
    "    E_b = a1*A - a2*A**2/3 - a3*Z**2/A**1/3 - a4*(A-2*z)**2/A + a5/A**1/2\n",
    "    print(E_b)\n",
    "elif A and Z == 2*n:\n",
    "    a5 = 12.0\n",
    "    E_b = a1*A - a2*A**2/3 - a3*Z**2/A**1/3 - a4*(A-2*z)**2/A + a5/A**1/2\n",
    "    print(E_b)\n",
    "elif A == 2*n and Z == 2*n +1:\n",
    "    E_b = a1*A - a2*A**2/3 - a3*Z**2/A**1/3 - a4*(A-2*z)**2/A + a5/A**1/2\n",
    "    print(E_b)\n",
    "    "
   ]
  },
  {
   "cell_type": "code",
   "execution_count": null,
   "id": "f8b3d484",
   "metadata": {},
   "outputs": [],
   "source": []
  }
 ],
 "metadata": {
  "kernelspec": {
   "display_name": "Python 3 (ipykernel)",
   "language": "python",
   "name": "python3"
  },
  "language_info": {
   "codemirror_mode": {
    "name": "ipython",
    "version": 3
   },
   "file_extension": ".py",
   "mimetype": "text/x-python",
   "name": "python",
   "nbconvert_exporter": "python",
   "pygments_lexer": "ipython3",
   "version": "3.11.5"
  }
 },
 "nbformat": 4,
 "nbformat_minor": 5
}
